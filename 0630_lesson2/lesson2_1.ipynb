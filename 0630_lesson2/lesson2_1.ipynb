{
 "cells": [
  {
   "cell_type": "code",
   "execution_count": 1,
   "id": "4d6cd070",
   "metadata": {},
   "outputs": [
    {
     "name": "stdout",
     "output_type": "stream",
     "text": [
      "hello Python!\n"
     ]
    }
   ],
   "source": [
    "print(\"hello Python!\")"
   ]
  },
  {
   "cell_type": "markdown",
   "id": "db04a94a",
   "metadata": {},
   "source": [
    "數學運算式練習"
   ]
  },
  {
   "cell_type": "code",
   "execution_count": 4,
   "id": "77027418",
   "metadata": {},
   "outputs": [
    {
     "name": "stdout",
     "output_type": "stream",
     "text": [
      "10\n",
      "25\n",
      "1.0\n",
      "15.0\n"
     ]
    }
   ],
   "source": [
    "print(5+5)\n",
    "print(5*5)\n",
    "print(5/5)\n",
    "print(5*6/2)"
   ]
  }
 ],
 "metadata": {
  "kernelspec": {
   "display_name": "base",
   "language": "python",
   "name": "python3"
  },
  "language_info": {
   "codemirror_mode": {
    "name": "ipython",
    "version": 3
   },
   "file_extension": ".py",
   "mimetype": "text/x-python",
   "name": "python",
   "nbconvert_exporter": "python",
   "pygments_lexer": "ipython3",
   "version": "3.13.2"
  }
 },
 "nbformat": 4,
 "nbformat_minor": 5
}
