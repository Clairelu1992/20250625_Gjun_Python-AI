{
 "cells": [
  {
   "cell_type": "code",
   "execution_count": 2,
   "id": "a6db660f",
   "metadata": {},
   "outputs": [],
   "source": [
    "#數字+字串->不可以，錯誤\n",
    "#35+ '10' #35是數字，10是字串"
   ]
  },
  {
   "cell_type": "code",
   "execution_count": null,
   "id": "7b1de88f",
   "metadata": {},
   "outputs": [
    {
     "data": {
      "text/plain": [
       "'3510'"
      ]
     },
     "execution_count": 3,
     "metadata": {},
     "output_type": "execute_result"
    }
   ],
   "source": [
    "#字串+字串-->可以相加，稱為連結\n",
    "#字串-字串-->不可以，錯誤\n",
    "'35' + '10'"
   ]
  },
  {
   "cell_type": "code",
   "execution_count": 9,
   "id": "cdc0cf24",
   "metadata": {},
   "outputs": [
    {
     "name": "stdout",
     "output_type": "stream",
     "text": [
      "30.0\n"
     ]
    }
   ],
   "source": [
    "#等於是二元運算子\n",
    "number1=10  #這個一個敘述式，建立變數number1，10是整數，存在number1\n",
    "type(number1) #傳出值\n",
    "number2=20.0 #這敘述式，不會傳出值，是None\n",
    "type(number2)\n",
    "value=number1+number2  #這敘述式，不會傳出值，是Non\n",
    "type(value)\n",
    "print(value)"
   ]
  },
  {
   "cell_type": "code",
   "execution_count": 10,
   "id": "b64edd1c",
   "metadata": {},
   "outputs": [
    {
     "data": {
      "text/plain": [
       "60"
      ]
     },
     "execution_count": 10,
     "metadata": {},
     "output_type": "execute_result"
    }
   ],
   "source": [
    "#轉換型別\n",
    "str1 = \"30\"\n",
    "num1 = 30\n",
    "\n",
    "value = int(str1) + num1\n",
    "value"
   ]
  },
  {
   "cell_type": "code",
   "execution_count": 11,
   "id": "87223a96",
   "metadata": {},
   "outputs": [],
   "source": [
    "#int(\"30a\") #無法轉換"
   ]
  },
  {
   "cell_type": "code",
   "execution_count": 39,
   "id": "9223219b",
   "metadata": {},
   "outputs": [
    {
     "ename": "TypeError",
     "evalue": "'str' object is not callable",
     "output_type": "error",
     "traceback": [
      "\u001b[31m---------------------------------------------------------------------------\u001b[39m",
      "\u001b[31mTypeError\u001b[39m                                 Traceback (most recent call last)",
      "\u001b[36mCell\u001b[39m\u001b[36m \u001b[39m\u001b[32mIn[39]\u001b[39m\u001b[32m, line 7\u001b[39m\n\u001b[32m      3\u001b[39m height=\u001b[38;5;28mfloat\u001b[39m(\u001b[38;5;28minput\u001b[39m(\u001b[33m\"\u001b[39m\u001b[33m請輸入高(公分)\u001b[39m\u001b[33m\"\u001b[39m))\n\u001b[32m      5\u001b[39m area=(top+bottom)* height /\u001b[32m2\u001b[39m\n\u001b[32m----> \u001b[39m\u001b[32m7\u001b[39m \u001b[38;5;28;43mprint\u001b[39;49m\u001b[43m(\u001b[49m\u001b[33;43m\"\u001b[39;49m\u001b[33;43m梯形的面積是:\u001b[39;49m\u001b[33;43m\"\u001b[39;49m\u001b[43m,\u001b[49m\u001b[38;5;28;43mround\u001b[39;49m\u001b[43m(\u001b[49m\u001b[43marea\u001b[49m\u001b[43m,\u001b[49m\u001b[43mndigits\u001b[49m\u001b[43m=\u001b[49m\u001b[32;43m2\u001b[39;49m\u001b[43m)\u001b[49m\u001b[43m)\u001b[49m\n\u001b[32m      8\u001b[39m \u001b[38;5;66;03m#print(\"梯形的面積是:\",round(area))\u001b[39;00m\n",
      "\u001b[31mTypeError\u001b[39m: 'str' object is not callable"
     ]
    }
   ],
   "source": [
    "top=float(input(\"請輸入上底(公分)\"))\n",
    "bottom=float(input(\"請輸入下底(公分)\"))\n",
    "height=float(input(\"請輸入高(公分)\"))\n",
    "\n",
    "area=(top+bottom)* height /2\n",
    "\n",
    "print(\"梯形的面積是:\",round(area,ndigits=2))\n",
    "#print(\"梯形的面積是:\",round(area))"
   ]
  },
  {
   "cell_type": "code",
   "execution_count": 54,
   "id": "962ff16c",
   "metadata": {},
   "outputs": [
    {
     "ename": "NameError",
     "evalue": "name 'round' is not defined",
     "output_type": "error",
     "traceback": [
      "\u001b[31m---------------------------------------------------------------------------\u001b[39m",
      "\u001b[31mNameError\u001b[39m                                 Traceback (most recent call last)",
      "\u001b[36mCell\u001b[39m\u001b[36m \u001b[39m\u001b[32mIn[54]\u001b[39m\u001b[32m, line 12\u001b[39m\n\u001b[32m     10\u001b[39m area = (top + bottom) * height / \u001b[32m2\u001b[39m\n\u001b[32m     11\u001b[39m \u001b[38;5;28mtype\u001b[39m(area)\n\u001b[32m---> \u001b[39m\u001b[32m12\u001b[39m \u001b[38;5;28;01mdel\u001b[39;00m \u001b[38;5;28;43mround\u001b[39;49m\n\u001b[32m     13\u001b[39m \u001b[38;5;28mprint\u001b[39m(\u001b[33m\"\u001b[39m\u001b[33m梯形的面積:\u001b[39m\u001b[33m\"\u001b[39m,\u001b[38;5;28mround\u001b[39m(area))\n\u001b[32m     14\u001b[39m \u001b[38;5;66;03m#area\u001b[39;00m\n",
      "\u001b[31mNameError\u001b[39m: name 'round' is not defined"
     ]
    }
   ],
   "source": [
    "#這是老師的範本\n",
    "# 請輸入梯形的上底(公分):5\n",
    "# 請輸入梯形的下底(公分):10\n",
    "# 請輸入梯形的高(公分):2\n",
    "\n",
    "top = float(input(\"請輸入上底(公分)\"))\n",
    "bottom = float(input(\"請輸入下底(公分)\"))\n",
    "height = float(input(\"請輸入高(公分)\"))\n",
    "\n",
    "area = (top + bottom) * height / 2\n",
    "type(area)\n",
    "del round\n",
    "print(\"梯形的面積:\",round(area))\n",
    "#area"
   ]
  },
  {
   "cell_type": "code",
   "execution_count": 50,
   "id": "c7a3b9cc",
   "metadata": {},
   "outputs": [
    {
     "ename": "TypeError",
     "evalue": "'str' object is not callable",
     "output_type": "error",
     "traceback": [
      "\u001b[31m---------------------------------------------------------------------------\u001b[39m",
      "\u001b[31mTypeError\u001b[39m                                 Traceback (most recent call last)",
      "\u001b[36mCell\u001b[39m\u001b[36m \u001b[39m\u001b[32mIn[50]\u001b[39m\u001b[32m, line 6\u001b[39m\n\u001b[32m      3\u001b[39m height = \u001b[38;5;28mfloat\u001b[39m(\u001b[38;5;28minput\u001b[39m(\u001b[33m\"\u001b[39m\u001b[33m請輸入高(公分):\u001b[39m\u001b[33m\"\u001b[39m))\n\u001b[32m      5\u001b[39m area = (top + bottom) * height / \u001b[32m2\u001b[39m\n\u001b[32m----> \u001b[39m\u001b[32m6\u001b[39m \u001b[38;5;28;43mprint\u001b[39;49m\u001b[43m(\u001b[49m\u001b[33;43m\"\u001b[39;49m\u001b[33;43m梯形的面積:\u001b[39;49m\u001b[33;43m\"\u001b[39;49m\u001b[43m,\u001b[49m\u001b[43m \u001b[49m\u001b[38;5;28;43mround\u001b[39;49m\u001b[43m(\u001b[49m\u001b[43marea\u001b[49m\u001b[43m,\u001b[49m\u001b[43m \u001b[49m\u001b[43mndigits\u001b[49m\u001b[43m=\u001b[49m\u001b[32;43m2\u001b[39;49m\u001b[43m)\u001b[49m\u001b[43m)\u001b[49m\n",
      "\u001b[31mTypeError\u001b[39m: 'str' object is not callable"
     ]
    }
   ],
   "source": [
    "top = float(input(\"請輸入上底(公分):\"))\n",
    "bottom = float(input(\"請輸入下底(公分):\"))\n",
    "height = float(input(\"請輸入高(公分):\"))\n",
    "\n",
    "area = (top + bottom) * height / 2\n",
    "print(\"梯形的面積:\", round(area, ndigits=2))"
   ]
  },
  {
   "cell_type": "code",
   "execution_count": 33,
   "id": "abfb8da0",
   "metadata": {},
   "outputs": [
    {
     "data": {
      "text/plain": [
       "99.0"
      ]
     },
     "execution_count": 33,
     "metadata": {},
     "output_type": "execute_result"
    }
   ],
   "source": [
    "value=input(\"請輸入一個數值:\")\n",
    "type(value)\n",
    "value_float=float(value)\n",
    "value_float"
   ]
  },
  {
   "cell_type": "code",
   "execution_count": 35,
   "id": "5eb338d2",
   "metadata": {},
   "outputs": [
    {
     "data": {
      "text/plain": [
       "66.0"
      ]
     },
     "execution_count": 35,
     "metadata": {},
     "output_type": "execute_result"
    }
   ],
   "source": [
    "value=float(input(\"請輸入一個數值:\"))\n",
    "value"
   ]
  }
 ],
 "metadata": {
  "kernelspec": {
   "display_name": "base",
   "language": "python",
   "name": "python3"
  },
  "language_info": {
   "codemirror_mode": {
    "name": "ipython",
    "version": 3
   },
   "file_extension": ".py",
   "mimetype": "text/x-python",
   "name": "python",
   "nbconvert_exporter": "python",
   "pygments_lexer": "ipython3",
   "version": "3.13.2"
  }
 },
 "nbformat": 4,
 "nbformat_minor": 5
}
