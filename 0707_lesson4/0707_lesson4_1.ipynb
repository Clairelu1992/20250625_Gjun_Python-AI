{
 "cells": [
  {
   "cell_type": "code",
   "execution_count": null,
   "id": "ab849460",
   "metadata": {},
   "outputs": [
    {
     "name": "stdout",
     "output_type": "stream",
     "text": [
      "3數的加總是: 6.0\n"
     ]
    }
   ],
   "source": [
    "total = 0 \n",
    "value1 = float(input(\"請輸入第1個值:\"))\n",
    "value2 = float(input(\"請輸入第2個值:\"))\n",
    "value3 = float(input(\"請輸入第3個值:\"))\n",
    "\n",
    "total= value1 + value2 + value3\n",
    "print (\"3數的加總是:\",total) #total=變數，copy一份放在這裡"
   ]
  },
  {
   "cell_type": "code",
   "execution_count": 4,
   "id": "bb4beb8b",
   "metadata": {},
   "outputs": [
    {
     "name": "stdout",
     "output_type": "stream",
     "text": [
      "3 5.0 True 783.9\n"
     ]
    }
   ],
   "source": [
    "#print 沒有限定數量\n",
    "print(3,\"5.0\",True,783.9)"
   ]
  },
  {
   "cell_type": "code",
   "execution_count": 7,
   "id": "5f2e6546",
   "metadata": {},
   "outputs": [
    {
     "name": "stdout",
     "output_type": "stream",
     "text": [
      "n= 50\n"
     ]
    }
   ],
   "source": [
    "n = 25\n",
    "n = n + 25\n",
    "print('n=',n)"
   ]
  },
  {
   "cell_type": "code",
   "execution_count": 9,
   "id": "87d626c7",
   "metadata": {},
   "outputs": [
    {
     "name": "stdout",
     "output_type": "stream",
     "text": [
      "n= 100\n"
     ]
    }
   ],
   "source": [
    "#複合指定運算子\n",
    "#+=、-=、*=\n",
    "n = 25\n",
    "n += 25\n",
    "n *= 2\n",
    "print('n=',n)"
   ]
  },
  {
   "cell_type": "code",
   "execution_count": 13,
   "id": "9507c9a8",
   "metadata": {},
   "outputs": [
    {
     "name": "stdout",
     "output_type": "stream",
     "text": [
      "3數的加總是: 168470083546.0\n"
     ]
    }
   ],
   "source": [
    "#複合指令運算子寫法，省略創造太多變數\n",
    "total = 0 #一定要有個變數，先給0\n",
    "value = float(input(\"請輸入第1個值:\"))\n",
    "total += value\n",
    "\n",
    "value = float(input(\"請輸入第2個值:\"))\n",
    "total += value\n",
    "\n",
    "value = float(input(\"請輸入第3個值:\"))\n",
    "total += value\n",
    "\n",
    "#total= value1 + value2 + value3\n",
    "print (\"3數的加總是:\",total) #total=變數，copy一份放在這裡"
   ]
  },
  {
   "cell_type": "code",
   "execution_count": 15,
   "id": "4c2609f8",
   "metadata": {},
   "outputs": [
    {
     "name": "stdout",
     "output_type": "stream",
     "text": [
      "a= 66.0\n",
      "b= 33.0\n",
      "斜邊為= 73.79024325749306\n"
     ]
    }
   ],
   "source": [
    "#直角三角形 (a^2 + b^2 ) 開更號\n",
    "import math #使用python 內建math工具箱\n",
    "a = float(input(\"請輸入a=\"))\n",
    "b = float(input(\"請輸入b=\"))\n",
    "\n",
    "#c = float((a ** 2 + b ** 2)*0.5)\n",
    "\n",
    "#導入math.sqrt() 開根號\n",
    "c = math.sqrt(a ** 2 + b ** 2)\n",
    "print(\"a=\",a)\n",
    "print(\"b=\",b)\n",
    "print(\"斜邊為=\",c)"
   ]
  },
  {
   "cell_type": "code",
   "execution_count": 19,
   "id": "43603a57",
   "metadata": {},
   "outputs": [
    {
     "name": "stdout",
     "output_type": "stream",
     "text": [
      "斜邊= 50.0\n",
      "對邊= 30.0\n",
      "直角三角形的角度是: 36.86989764584402\n"
     ]
    }
   ],
   "source": [
    "#三角函數計算\n",
    "\n",
    "import math #使用python 內建math工具箱\n",
    "side = float(input(\"請輸入斜邊=\"))\n",
    "other_side = float(input(\"請輸入對邊=\"))\n",
    "\n",
    "#對邊除以斜邊 #可改用math() radian(徑度)、asin(對邊/斜邊)、derees(將角度x從弧度轉為度數)\n",
    "radian = math.asin(other_side / side) \n",
    "degrees = math.degrees(radian)\n",
    "\n",
    "print(\"斜邊=\",side)\n",
    "print(\"對邊=\",other_side)\n",
    "print(\"直角三角形的角度是:\",degrees)"
   ]
  },
  {
   "cell_type": "code",
   "execution_count": null,
   "id": "6f836279",
   "metadata": {},
   "outputs": [
    {
     "data": {
      "text/plain": [
       "12.316276493594428"
      ]
     },
     "execution_count": 21,
     "metadata": {},
     "output_type": "execute_result"
    }
   ],
   "source": [
    "#數學統計函式statistic()\n",
    "import statistics\n",
    "statistics.stdev([1.2,1.5,1.6,33,6.5,6.4])"
   ]
  }
 ],
 "metadata": {
  "kernelspec": {
   "display_name": "base",
   "language": "python",
   "name": "python3"
  },
  "language_info": {
   "codemirror_mode": {
    "name": "ipython",
    "version": 3
   },
   "file_extension": ".py",
   "mimetype": "text/x-python",
   "name": "python",
   "nbconvert_exporter": "python",
   "pygments_lexer": "ipython3",
   "version": "3.13.2"
  }
 },
 "nbformat": 4,
 "nbformat_minor": 5
}
