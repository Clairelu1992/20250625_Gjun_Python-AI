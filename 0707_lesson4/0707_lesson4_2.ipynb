{
 "cells": [
  {
   "cell_type": "code",
   "execution_count": null,
   "id": "dff0aef3",
   "metadata": {},
   "outputs": [
    {
     "data": {
      "text/plain": [
       "False"
      ]
     },
     "execution_count": 1,
     "metadata": {},
     "output_type": "execute_result"
    }
   ],
   "source": [
    "#單向選項判斷語法練習\n",
    "5 > 3\n",
    "3 > 5\n",
    "5 == 5\n",
    "5 != 5"
   ]
  },
  {
   "cell_type": "code",
   "execution_count": 3,
   "id": "c4f5af5f",
   "metadata": {},
   "outputs": [
    {
     "name": "stdout",
     "output_type": "stream",
     "text": [
      "59 成績不及格\n"
     ]
    }
   ],
   "source": [
    "#雙向選項判斷式練習  if 後面要bool值\n",
    "score = int(input(\"請輸入成績:\"))\n",
    "\n",
    "if score >= 60:\n",
    "  print (score,\"成績及格\")\n",
    "\n",
    "else:\n",
    "  print (score,\"成績不及格\")"
   ]
  },
  {
   "cell_type": "code",
   "execution_count": 5,
   "id": "f3aa16d2",
   "metadata": {},
   "outputs": [
    {
     "name": "stdout",
     "output_type": "stream",
     "text": [
      "學生總分數為: 419\n"
     ]
    }
   ],
   "source": [
    "#學生總分為300；有些學生可以加分5% (y)\n",
    "#以下兩行為根程式區塊，一定會執行\n",
    "score = int(input(\"請輸入學生分數(最高300):\")) #字串要轉為數值才能比大小，要轉為int\n",
    "is_add = input(\"學生是否符合加分條件?(y,n)\") #y,n 是字串，本來就是字串不用再轉型態\n",
    "\n",
    "#自傳只能用 ==等於、!= 不等於比較\n",
    "if is_add == \"y\": #單向選擇，false不做任何事情\n",
    "    score *= 1.05\n",
    "\n",
    "print(\"學生總分數為:\", round(score))"
   ]
  }
 ],
 "metadata": {
  "kernelspec": {
   "display_name": "base",
   "language": "python",
   "name": "python3"
  },
  "language_info": {
   "codemirror_mode": {
    "name": "ipython",
    "version": 3
   },
   "file_extension": ".py",
   "mimetype": "text/x-python",
   "name": "python",
   "nbconvert_exporter": "python",
   "pygments_lexer": "ipython3",
   "version": "3.13.2"
  }
 },
 "nbformat": 4,
 "nbformat_minor": 5
}
