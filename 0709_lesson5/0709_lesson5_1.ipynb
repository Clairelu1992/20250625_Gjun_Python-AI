{
 "cells": [
  {
   "cell_type": "code",
   "execution_count": null,
   "id": "fe6b4122",
   "metadata": {},
   "outputs": [],
   "source": [
    "#老師範本\n",
    "#學生總分為300\n",
    "#有些學生可以加分5%\n",
    "\n",
    "scores = int(input(\"請輸入學生分數(最高300):\"))\n",
    "if scores <= 300:\n",
    "    is_add = input(\"學生是否符合加分條件?(y,n)\")\n",
    "\n",
    "    if is_add == \"y\": #單項選擇\n",
    "        scores *= 1.05\n",
    "        if scores > 300:\n",
    "            scores = 300\n",
    "\n",
    "    print(\"學生總分是:\", round(scores))\n",
    "else:\n",
    "    print(\"總分不得超過300分\")\n",
    "\n",
    "print(\"應用程式結束\")"
   ]
  },
  {
   "cell_type": "code",
   "execution_count": null,
   "id": "7ace732c",
   "metadata": {},
   "outputs": [],
   "source": [
    "#學生總分為300\n",
    "#有些學生可以加分5%\n",
    "#學生是否符合加分條件?\n",
    "#如果分數>300 分數直接等於300，超過300則列印學生總分不得超過300\n",
    "\n",
    "score = int(input('請輸入成績'))\n",
    "if \n",
    "\n",
    "\n",
    "else:\n",
    "    print(\"總分不得超過300分\")"
   ]
  },
  {
   "cell_type": "code",
   "execution_count": null,
   "id": "dd564981",
   "metadata": {},
   "outputs": [],
   "source": [
    "#學生練習\n",
    "#判斷金額，確認輸入是否錯誤\n",
    "try:\n",
    "    money = int(input (\"請輸入金額:\"))\n",
    "except IndexError as error:\n",
    "    print(\"索引錯誤\",error)\n",
    "\n",
    "except ValueError as error:\n",
    "    print(\"格式錯誤\",error)\n",
    "\n",
    "except: \n",
    "    print(\"不知名錯誤\")\n",
    "\n",
    "print(\"應用程式錯誤\")"
   ]
  },
  {
   "cell_type": "code",
   "execution_count": null,
   "id": "753bd0d8",
   "metadata": {},
   "outputs": [],
   "source": [
    "try:\n",
    "    money = int(input(\"請輸入金額:\"))\n",
    "except:\n",
    "    print(\"格式錯誤\")\n",
    "\n",
    "print(\"應用程式結束\")"
   ]
  },
  {
   "cell_type": "code",
   "execution_count": null,
   "id": "b68ef35a",
   "metadata": {},
   "outputs": [],
   "source": [
    "try:\n",
    "    money = int(input(\"請輸入金額:\"))\n",
    "except IndexError:\n",
    "    print(\"索引錯誤\")\n",
    "except ValueError:\n",
    "    print(\"格式錯誤\")\n",
    "except:\n",
    "    print(\"不知名的錯誤\")\n",
    "\n",
    "print(\"應用程式結束\")"
   ]
  },
  {
   "cell_type": "code",
   "execution_count": null,
   "id": "5d47f49d",
   "metadata": {},
   "outputs": [],
   "source": [
    "try:\n",
    "    money = int(input(\"請輸入金額:\"))\n",
    "except IndexError as e:\n",
    "    print(\"索引錯誤\",e)\n",
    "except ValueError as e:\n",
    "    print(\"格式錯誤\", e)\n",
    "except:\n",
    "    print(\"不知名的錯誤\")\n",
    "\n",
    "print(\"應用程式結束\")"
   ]
  },
  {
   "cell_type": "code",
   "execution_count": null,
   "id": "660952a5",
   "metadata": {},
   "outputs": [],
   "source": [
    "try:\n",
    "    money = int(input(\"請輸入金額:\"))\n",
    "except IndexError as e:\n",
    "    print(\"索引錯誤\",e)\n",
    "except ValueError as error:\n",
    "    print(\"格式錯誤\", error)\n",
    "except:\n",
    "    print(\"不知名的錯誤\")\n",
    "else:\n",
    "    print(\"沒有出現錯誤\")\n",
    "finally:\n",
    "    print(\"結束internet連線\")\n",
    "\n",
    "print(\"應用程式結束\")"
   ]
  },
  {
   "cell_type": "code",
   "execution_count": null,
   "id": "0b1a88d7",
   "metadata": {},
   "outputs": [],
   "source": [
    "try:\n",
    "    money = int(input(\"請輸入金額:\"))\n",
    "    print(\"金額是:\",money)\n",
    "except:\n",
    "    print(\"格式錯誤\")\n",
    "\n",
    "print(\"應用程式結束\")"
   ]
  }
 ],
 "metadata": {
  "kernelspec": {
   "display_name": "base",
   "language": "python",
   "name": "python3"
  },
  "language_info": {
   "name": "python",
   "version": "3.13.2"
  }
 },
 "nbformat": 4,
 "nbformat_minor": 5
}
