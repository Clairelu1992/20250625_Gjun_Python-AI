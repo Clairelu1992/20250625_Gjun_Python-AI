{
 "cells": [
  {
   "cell_type": "code",
   "execution_count": null,
   "id": "3896edf9",
   "metadata": {},
   "outputs": [],
   "source": [
    "#學生總分為300\n",
    "#有些學生可以加分5%\n",
    "try:\n",
    "    scores = int(input(\"請輸入學生分數(最高300):\"))\n",
    "    if scores <= 300:\n",
    "        is_add = input(\"學生是否符合加分條件?(y,n)\")\n",
    "\n",
    "        if is_add == \"y\": #單項選擇\n",
    "            scores *= 1.05\n",
    "            if scores > 300:\n",
    "                scores = 300\n",
    "\n",
    "        print(\"學生總分是:\", round(scores))\n",
    "    else:\n",
    "        print(\"總分不得超過300分\")\n",
    "    \n",
    "except ValueError as e:\n",
    "    print(\"格式錯誤\",e)\n",
    "except:\n",
    "    print(\"不知名的錯誤\")\n",
    "    \n",
    "print(\"應用程式結束\")"
   ]
  },
  {
   "cell_type": "code",
   "execution_count": null,
   "id": "a295a806",
   "metadata": {},
   "outputs": [],
   "source": [
    "自已raise Exception()"
   ]
  },
  {
   "cell_type": "markdown",
   "id": "1b9344c6",
   "metadata": {},
   "source": [
    "#學生總分為300\n",
    "#有些學生可以加分5%\n",
    "try:\n",
    "    scores = int(input(\"請輸入學生分數(最高300):\"))\n",
    "    if scores <= 300:\n",
    "        is_add = input(\"學生是否符合加分條件?(y,n)\")\n",
    "\n",
    "        if is_add == \"y\": #單項選擇\n",
    "            scores *= 1.05\n",
    "            if scores > 300:\n",
    "                scores = 300\n",
    "\n",
    "        print(\"學生總分是:\", round(scores))\n",
    "    else:\n",
    "        raise Exception(\"學生分數不可以超出300分\") \n",
    "    \n",
    "except ValueError as e:\n",
    "    print(\"格式錯誤\",e)\n",
    "except Exception as e:\n",
    "    print(e)\n",
    "    \n",
    "print(\"應用程式結束\")"
   ]
  }
 ],
 "metadata": {
  "kernelspec": {
   "display_name": "base",
   "language": "python",
   "name": "python3"
  },
  "language_info": {
   "name": "python",
   "version": "3.13.2"
  }
 },
 "nbformat": 4,
 "nbformat_minor": 5
}
