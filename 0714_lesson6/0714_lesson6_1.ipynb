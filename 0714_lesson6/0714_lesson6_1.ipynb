{
 "cells": [
  {
   "cell_type": "markdown",
   "id": "14b296ac",
   "metadata": {},
   "source": [
    "BMI計算:\n",
    "請輸入身高(120-250,cm):\n",
    "請輸入體重(30-200,kg):\n",
    "輸出:\n",
    "您的bmi是:24.5\n",
    "\n",
    "注意事項:\n",
    "請檢查輸入的身高體重的格式\n",
    "身高的範圍是120~250\n",
    "體重的範圍是30~200\n",
    "公式"
   ]
  },
  {
   "cell_type": "code",
   "execution_count": null,
   "id": "f9c41e3d",
   "metadata": {},
   "outputs": [],
   "source": [
    "#同學的程式\n",
    "try:\n",
    "    heigh = int(input(\"請輸入身高(120-250cm):\"))\n",
    "    if heigh >= 120 and heigh <= 250:\n",
    "        print(\"身高:\",heigh)\n",
    "    else:\n",
    "        raise Exception(\"不在範圍內\")\n",
    "    weight = int(input(\"請輸入體重(30-200kg):\"))\n",
    "    if weight >= 30 and weight <= 200:\n",
    "        print(\"體重\",weight)\n",
    "    else:\n",
    "        raise Exception(\"不在範圍內\")\n",
    "except ValueError as e:\n",
    "    print(\"格式錯誤\",e)\n",
    "except Exception as e:\n",
    "    print(e)\n",
    "else:\n",
    "    bmi = weight / ((heigh / 100) ** 2)\n",
    "    print(\"您的bmi是:\",round(bmi,ndigits = 1))\n",
    "finally:\n",
    "    print(\"計算完成\")"
   ]
  }
 ],
 "metadata": {
  "kernelspec": {
   "display_name": "base",
   "language": "python",
   "name": "python3"
  },
  "language_info": {
   "name": "python",
   "version": "3.13.2"
  }
 },
 "nbformat": 4,
 "nbformat_minor": 5
}
