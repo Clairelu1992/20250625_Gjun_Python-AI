{
 "cells": [
  {
   "cell_type": "code",
   "execution_count": 2,
   "id": "2c33be4c",
   "metadata": {},
   "outputs": [
    {
     "name": "stdout",
     "output_type": "stream",
     "text": [
      "丁\n"
     ]
    }
   ],
   "source": [
    "#多項選擇\n",
    "soure = int (input(\"請輸入學生分數:\"))\n",
    "\n",
    "if soure >= 90:\n",
    "    grade = '優'\n",
    "\n",
    "elif soure >= 80:\n",
    "     grade = '甲'\n",
    "\n",
    "elif soure >= 70:\n",
    "     grade = '乙'\n",
    "\n",
    "elif soure >= 60:\n",
    "     grade = '丙'\n",
    "else:\n",
    "  grade = '丁'\n",
    "\n",
    "print(grade)"
   ]
  }
 ],
 "metadata": {
  "kernelspec": {
   "display_name": "base",
   "language": "python",
   "name": "python3"
  },
  "language_info": {
   "codemirror_mode": {
    "name": "ipython",
    "version": 3
   },
   "file_extension": ".py",
   "mimetype": "text/x-python",
   "name": "python",
   "nbconvert_exporter": "python",
   "pygments_lexer": "ipython3",
   "version": "3.13.2"
  }
 },
 "nbformat": 4,
 "nbformat_minor": 5
}
