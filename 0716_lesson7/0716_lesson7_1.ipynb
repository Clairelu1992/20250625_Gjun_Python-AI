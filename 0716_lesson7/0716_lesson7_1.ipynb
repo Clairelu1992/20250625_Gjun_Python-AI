{
 "cells": [
  {
   "cell_type": "code",
   "execution_count": 1,
   "id": "fdbf55db",
   "metadata": {},
   "outputs": [
    {
     "name": "stdout",
     "output_type": "stream",
     "text": [
      "Taipei\n",
      "程式結束\n"
     ]
    }
   ],
   "source": [
    "#while / if /break\n",
    "while(True):\n",
    "    stuff = input(\"請輸入小寫英文字，會自動轉成大寫[按下q會離開]:\")\n",
    "    if stuff == 'q' or stuff =='Q':\n",
    "        break\n",
    "    print(stuff.capitalize())\n",
    "print(\"程式結束\")"
   ]
  },
  {
   "cell_type": "code",
   "execution_count": null,
   "id": "7666fd65",
   "metadata": {},
   "outputs": [
    {
     "name": "stdout",
     "output_type": "stream",
     "text": [
      "輸入的次數是6,所有輸入的正偶數家總是:12\n"
     ]
    }
   ],
   "source": [
    "#設計一個程式，讓使用者輸入數值，只有加總政偶數值，不加總正奇數值，如果輸入負數，結束程式。\n",
    "\n",
    "num = 0\n",
    "sum = 0\n",
    "while(True):\n",
    "    input_value = int(input(f\"請輸入第1{num+1}個數值:\"))\n",
    "    if input_value < 0: \n",
    "        break              #輸入負數，結束程式\n",
    "    num +=1                #只有加總政偶數值\n",
    "    if input_value % 2 ==1: #表示奇數\n",
    "        continue            #不加總正奇數值\n",
    "    sum += input_value\n",
    "\n",
    "print (f\"輸入的次數是{num},所有輸入的正偶數家總是:{sum}\")\n"
   ]
  },
  {
   "cell_type": "markdown",
   "id": "3807f999",
   "metadata": {},
   "source": [
    "猜數字，終極密碼"
   ]
  },
  {
   "cell_type": "code",
   "execution_count": 2,
   "id": "54e5c645",
   "metadata": {},
   "outputs": [
    {
     "name": "stdout",
     "output_type": "stream",
     "text": [
      "===================猜數字遊戲=================\n",
      "\n",
      "再大一點\n",
      "您猜了1次\n",
      "再大一點\n",
      "您猜了2次\n",
      "再大一點\n",
      "您猜了3次\n",
      "再大一點\n",
      "您猜了4次\n",
      "再大一點\n",
      "您猜了5次\n",
      "再小一點\n",
      "您猜了6次\n",
      "再小一點\n",
      "您猜了7次\n",
      "再小一點\n",
      "您猜了8次\n",
      "再小一點\n",
      "您猜了9次\n",
      "再小一點\n",
      "您猜了10次\n",
      "再小一點\n",
      "您猜了11次\n",
      "再小一點\n",
      "您猜了12次\n",
      "再小一點\n",
      "您猜了13次\n",
      "再小一點\n",
      "您猜了14次\n",
      "賓果，猜對了，答案是13\n",
      "您猜了15次\n",
      "遊戲結束\n"
     ]
    }
   ],
   "source": [
    "import random\n",
    "min = 1\n",
    "max = 100\n",
    "count = 0\n",
    "guess_value = random.randint(min,max)\n",
    "print(\"===================猜數字遊戲=================\\n\")\n",
    "while(True):\n",
    "    keyin = int(input(f\"猜數字範圍{min}~{max}\"))\n",
    "    count +=1\n",
    "    if keyin >=min and keyin <= max:\n",
    "        if(keyin == guess_value):\n",
    "            print(f\"賓果，猜對了，答案是{guess_value}\")\n",
    "            print(f\"您猜了{count}次\")\n",
    "            break\n",
    "        elif keyin > guess_value:\n",
    "            print(\"再小一點\")\n",
    "            max = keyin - 1\n",
    "            \n",
    "        else:\n",
    "            print(\"再大一點\")\n",
    "            min = keyin + 1\n",
    "\n",
    "        print(f\"您猜了{count}次\")\n",
    "\n",
    "    else:\n",
    "        print(\"請輸入提示範圍內數字:\")\n",
    "\n",
    "print(\"遊戲結束\")"
   ]
  }
 ],
 "metadata": {
  "kernelspec": {
   "display_name": "base",
   "language": "python",
   "name": "python3"
  },
  "language_info": {
   "codemirror_mode": {
    "name": "ipython",
    "version": 3
   },
   "file_extension": ".py",
   "mimetype": "text/x-python",
   "name": "python",
   "nbconvert_exporter": "python",
   "pygments_lexer": "ipython3",
   "version": "3.13.2"
  }
 },
 "nbformat": 4,
 "nbformat_minor": 5
}
