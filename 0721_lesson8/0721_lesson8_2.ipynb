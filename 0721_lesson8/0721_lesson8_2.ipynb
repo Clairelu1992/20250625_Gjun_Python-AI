{
 "cells": [
  {
   "cell_type": "code",
   "execution_count": 1,
   "id": "bbd43fa1",
   "metadata": {},
   "outputs": [
    {
     "name": "stdout",
     "output_type": "stream",
     "text": [
      "hello\n"
     ]
    }
   ],
   "source": [
    "def say_hello():\n",
    "    print(\"hello\")\n",
    "    \n",
    "say_hello()"
   ]
  },
  {
   "cell_type": "code",
   "execution_count": 8,
   "id": "b77c7ee5",
   "metadata": {},
   "outputs": [
    {
     "name": "stdout",
     "output_type": "stream",
     "text": [
      "ya! 您好\n"
     ]
    }
   ],
   "source": [
    "def say_hello(name):\n",
    "    print(f\"{name}! 您好\")\n",
    "\n",
    "name = input(\"你的名字\")\n",
    "say_hello(name)"
   ]
  },
  {
   "cell_type": "code",
   "execution_count": 9,
   "id": "2086e3ed",
   "metadata": {},
   "outputs": [
    {
     "data": {
      "text/plain": [
       "'1! 您好'"
      ]
     },
     "execution_count": 9,
     "metadata": {},
     "output_type": "execute_result"
    }
   ],
   "source": [
    "def say_hello(name:str)->str:\n",
    "    return f\"{name}! 您好\"\n",
    "\n",
    "name = input(\"你的名字\")\n",
    "say_hello(name)"
   ]
  },
  {
   "cell_type": "code",
   "execution_count": null,
   "id": "9a92dcde",
   "metadata": {},
   "outputs": [
    {
     "name": "stdout",
     "output_type": "stream",
     "text": [
      "HELLO cc YOU ARE 5 YEARS OLD!\n"
     ]
    }
   ],
   "source": [
    "name:str = input(\"what is your name?\")\n",
    "age:int = input(\"your age\")\n",
    "\n",
    "print(f\"HELLO {name} YOU ARE {age} YEARS OLD!\")"
   ]
  }
 ],
 "metadata": {
  "kernelspec": {
   "display_name": "base",
   "language": "python",
   "name": "python3"
  },
  "language_info": {
   "codemirror_mode": {
    "name": "ipython",
    "version": 3
   },
   "file_extension": ".py",
   "mimetype": "text/x-python",
   "name": "python",
   "nbconvert_exporter": "python",
   "pygments_lexer": "ipython3",
   "version": "3.13.2"
  }
 },
 "nbformat": 4,
 "nbformat_minor": 5
}
