{
 "cells": [
  {
   "cell_type": "code",
   "execution_count": null,
   "id": "17229fa0",
   "metadata": {},
   "outputs": [],
   "source": [
    "def menu(wine:str, entree:str, dessert:str):#先執行一次讓系統知道有function\n",
    "    print(f\"酒類:{wine}\")\n",
    "    print(f\"主餐:{entree}\")\n",
    "    print(f\"甜點:{dessert}\")"
   ]
  },
  {
   "cell_type": "code",
   "execution_count": 2,
   "id": "1c49750f",
   "metadata": {},
   "outputs": [
    {
     "name": "stdout",
     "output_type": "stream",
     "text": [
      "酒類:不喝酒\n",
      "主餐:咖哩\n",
      "甜點:提拉米蘇\n"
     ]
    }
   ],
   "source": [
    "#引數值的呼叫，要依照參數的順序輸入\n",
    "menu(\"不喝酒\",\"咖哩\",\"提拉米蘇\")"
   ]
  },
  {
   "cell_type": "code",
   "execution_count": 4,
   "id": "d56043c0",
   "metadata": {},
   "outputs": [
    {
     "name": "stdout",
     "output_type": "stream",
     "text": [
      "酒類:換紅茶\n",
      "主餐:咖哩蛋包飯\n",
      "甜點:提拉米蘇\n",
      "===============\n",
      "酒類:換紅茶\n",
      "主餐:咖哩蛋包飯\n",
      "甜點:提拉米蘇\n"
     ]
    }
   ],
   "source": [
    "#引數名出呼叫可不依照順序\n",
    "menu(wine=\"換紅茶\",entree=\"咖哩蛋包飯\",dessert=\"提拉米蘇\")\n",
    "print(\"===============\")\n",
    "menu(entree=\"咖哩蛋包飯\",dessert=\"提拉米蘇\",wine=\"換紅茶\")"
   ]
  },
  {
   "cell_type": "code",
   "execution_count": 5,
   "id": "0a9617a4",
   "metadata": {},
   "outputs": [
    {
     "name": "stdout",
     "output_type": "stream",
     "text": [
      "酒類:紅茶\n",
      "主餐:咖哩蛋包飯\n",
      "甜點:提拉米蘇\n",
      "===============\n",
      "酒類:紅茶\n",
      "主餐:咖哩蛋包飯\n",
      "甜點:提拉米蘇\n"
     ]
    }
   ],
   "source": [
    "#混合呼叫\n",
    "#前面一定要是引數值呼叫\n",
    "#後面引數名稱的呼叫\n",
    "#使用引數名稱名稱呼叫後，後面全部要用引數名稱呼叫\n",
    "\n",
    "menu('紅茶',entree='咖哩蛋包飯',dessert='提拉米蘇')\n",
    "print(\"===============\")\n",
    "menu('紅茶',dessert='提拉米蘇',entree='咖哩蛋包飯')\n"
   ]
  },
  {
   "cell_type": "code",
   "execution_count": null,
   "id": "2fc4e86a",
   "metadata": {},
   "outputs": [],
   "source": [
    "#有預設值的參數,一定放在最後面\n",
    "def menu(wine:str, entree:str, dessert:str='奶昔'):\n",
    "    print(f\"酒類:{wine}\")\n",
    "    print(f\"主餐:{entree}\")\n",
    "    print(f\"甜點:{dessert}\")\n",
    "menu('白酒','牛排')\n",
    "print(\"=============\")\n",
    "menu('白酒','牛排',dessert='蛋糕')\n",
    "酒類:白酒\n",
    "主餐:牛排\n",
    "甜點:奶昔\n",
    "=============\n",
    "酒類:白酒\n",
    "主餐:牛排\n",
    "甜點:蛋糕\n",
    "round(3.14159)\n",
    "round(3.14159,ndigits=2)"
   ]
  }
 ],
 "metadata": {
  "kernelspec": {
   "display_name": "base",
   "language": "python",
   "name": "python3"
  },
  "language_info": {
   "codemirror_mode": {
    "name": "ipython",
    "version": 3
   },
   "file_extension": ".py",
   "mimetype": "text/x-python",
   "name": "python",
   "nbconvert_exporter": "python",
   "pygments_lexer": "ipython3",
   "version": "3.13.2"
  }
 },
 "nbformat": 4,
 "nbformat_minor": 5
}
