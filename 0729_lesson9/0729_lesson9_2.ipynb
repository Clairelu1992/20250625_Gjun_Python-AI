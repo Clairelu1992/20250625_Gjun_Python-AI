{
 "cells": [
  {
   "cell_type": "code",
   "execution_count": null,
   "id": "6ce9f312",
   "metadata": {},
   "outputs": [
    {
     "name": "stdout",
     "output_type": "stream",
     "text": [
      "(1, 2.5, 3.0, '3.9', 'hello', True)\n"
     ]
    }
   ],
   "source": [
    "#如果參數有*參數名稱\n",
    "#呼叫時，沒有限定數量的引數值呼叫\n",
    "\n",
    "def fun1(*args):\n",
    "    print(args) #args是一個tuple-->暫時\n",
    "\n",
    "fun1(1,2.5,3.0,'3.9','hello',True)"
   ]
  },
  {
   "cell_type": "code",
   "execution_count": 2,
   "id": "de9ebf7f",
   "metadata": {},
   "outputs": [
    {
     "data": {
      "text/plain": [
       "('a', 'b', 'c', 'd', 'e')"
      ]
     },
     "execution_count": 2,
     "metadata": {},
     "output_type": "execute_result"
    }
   ],
   "source": [
    "#建立自訂的tuple\n",
    "\n",
    "('a','b','c','d','e','f',) #使用()符號建立tuple\n",
    "'a','b','c','d','e', #可以省略(),直接使用都號分隔"
   ]
  },
  {
   "cell_type": "code",
   "execution_count": 3,
   "id": "eda01e11",
   "metadata": {},
   "outputs": [
    {
     "name": "stdout",
     "output_type": "stream",
     "text": [
      "{'one': 1, 'two': 2, 'three': 3}\n"
     ]
    }
   ],
   "source": [
    "def fun2(**kwargs): ## **參數名稱，沒有限定數量的引數名稱呼叫\n",
    "    print(kwargs) ## kwargs是dictionary(dict)\n",
    "\n",
    "fun2(one=1,two=2,three=3)"
   ]
  }
 ],
 "metadata": {
  "kernelspec": {
   "display_name": "base",
   "language": "python",
   "name": "python3"
  },
  "language_info": {
   "codemirror_mode": {
    "name": "ipython",
    "version": 3
   },
   "file_extension": ".py",
   "mimetype": "text/x-python",
   "name": "python",
   "nbconvert_exporter": "python",
   "pygments_lexer": "ipython3",
   "version": "3.13.2"
  }
 },
 "nbformat": 4,
 "nbformat_minor": 5
}
