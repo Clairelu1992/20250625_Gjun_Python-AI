{
 "cells": [
  {
   "cell_type": "code",
   "execution_count": 1,
   "id": "43c00666",
   "metadata": {},
   "outputs": [
    {
     "data": {
      "text/plain": [
       "array([10, 30, 50, 70, 90])"
      ]
     },
     "execution_count": 1,
     "metadata": {},
     "output_type": "execute_result"
    }
   ],
   "source": [
    "import numpy as np\n",
    "#陣列運算\n",
    "a = np.array([1, 3, 5, 7, 9])\n",
    "a *= 10\n",
    "a"
   ]
  },
  {
   "cell_type": "code",
   "execution_count": 2,
   "id": "17a5e13d",
   "metadata": {},
   "outputs": [
    {
     "data": {
      "text/plain": [
       "array([ 3,  7, 11, 15, 19])"
      ]
     },
     "execution_count": 2,
     "metadata": {},
     "output_type": "execute_result"
    }
   ],
   "source": [
    "a = np.array([1, 3, 5, 7, 9])\n",
    "b = np.array([2, 4 , 6, 8, 10])\n",
    "\n",
    "#陣列運算\n",
    "a + b"
   ]
  },
  {
   "cell_type": "code",
   "execution_count": 3,
   "id": "84c0b4c4",
   "metadata": {},
   "outputs": [
    {
     "data": {
      "text/plain": [
       "dtype('int64')"
      ]
     },
     "execution_count": 3,
     "metadata": {},
     "output_type": "execute_result"
    }
   ],
   "source": [
    "#2維ndarray\n",
    "arr = np.array([[1, 3, 5],[2, 4, 6]])\n",
    "arr.ndim #維度\n",
    "arr.shape #形狀\n",
    "arr.size #元素數量\n",
    "arr.dtype #型別"
   ]
  },
  {
   "cell_type": "code",
   "execution_count": 4,
   "id": "245c3799",
   "metadata": {},
   "outputs": [
    {
     "data": {
      "text/plain": [
       "array([[0.57543488, 0.9341004 , 0.05424923, 0.63881887],\n",
       "       [0.69791917, 0.69805739, 0.56852415, 0.67132269],\n",
       "       [0.52089734, 0.33980266, 0.92767177, 0.90451959],\n",
       "       [0.75402573, 0.17503158, 0.92284022, 0.79612519],\n",
       "       [0.78806102, 0.78669629, 0.45690613, 0.77292707],\n",
       "       [0.40538756, 0.48302925, 0.57845089, 0.8098417 ],\n",
       "       [0.97982595, 0.80180553, 0.71569684, 0.20300174],\n",
       "       [0.32171284, 0.92541113, 0.60537873, 0.35609967],\n",
       "       [0.49185828, 0.03412865, 0.7068043 , 0.72084163],\n",
       "       [0.38419731, 0.28748683, 0.61066959, 0.27999922],\n",
       "       [0.4703042 , 0.14759051, 0.2377327 , 0.77182485],\n",
       "       [0.46176584, 0.60866198, 0.66346981, 0.457128  ],\n",
       "       [0.24943779, 0.39418021, 0.00675705, 0.75057708],\n",
       "       [0.42599615, 0.62658492, 0.98047311, 0.70345177],\n",
       "       [0.31175396, 0.09508898, 0.83082175, 0.07356665],\n",
       "       [0.8199429 , 0.1612726 , 0.39922262, 0.2339895 ],\n",
       "       [0.80277398, 0.42377969, 0.58838041, 0.63137642],\n",
       "       [0.99231103, 0.41291824, 0.42684019, 0.60480877],\n",
       "       [0.44117603, 0.87521795, 0.1891876 , 0.60027387],\n",
       "       [0.94011031, 0.73339867, 0.78665479, 0.99913417],\n",
       "       [0.08797133, 0.48960186, 0.89227072, 0.8423959 ],\n",
       "       [0.32851617, 0.36668982, 0.32809909, 0.29267931],\n",
       "       [0.71243875, 0.32649042, 0.64352462, 0.95469858],\n",
       "       [0.90220474, 0.19003546, 0.70362049, 0.58055487],\n",
       "       [0.44329079, 0.04990584, 0.87863341, 0.75657441],\n",
       "       [0.36728479, 0.52857705, 0.80285395, 0.86182671],\n",
       "       [0.81207576, 0.84450503, 0.79251368, 0.85909593],\n",
       "       [0.63341633, 0.97045038, 0.61433582, 0.74935831],\n",
       "       [0.90616158, 0.92193802, 0.53150594, 0.90236915],\n",
       "       [0.33494657, 0.968264  , 0.76638389, 0.07288025]])"
      ]
     },
     "execution_count": 4,
     "metadata": {},
     "output_type": "execute_result"
    }
   ],
   "source": [
    "np.random.rand()\n",
    "np.random.rand(30,4)"
   ]
  },
  {
   "cell_type": "code",
   "execution_count": 5,
   "id": "b2060eea",
   "metadata": {},
   "outputs": [
    {
     "data": {
      "text/plain": [
       "array([[81, 80, 75, 50, 95],\n",
       "       [54, 81, 67, 73, 76],\n",
       "       [96, 86, 78, 96, 51],\n",
       "       [83, 56, 52, 87, 86],\n",
       "       [71, 57, 93, 70, 68]], dtype=int32)"
      ]
     },
     "execution_count": 5,
     "metadata": {},
     "output_type": "execute_result"
    }
   ],
   "source": [
    "scores = np.random.randint(50,101,size=(5,5))\n",
    "scores"
   ]
  },
  {
   "cell_type": "code",
   "execution_count": null,
   "id": "1a2bd9e9",
   "metadata": {},
   "outputs": [],
   "source": []
  }
 ],
 "metadata": {
  "kernelspec": {
   "display_name": "20250804_Claire_conda",
   "language": "python",
   "name": "python3"
  },
  "language_info": {
   "codemirror_mode": {
    "name": "ipython",
    "version": 3
   },
   "file_extension": ".py",
   "mimetype": "text/x-python",
   "name": "python",
   "nbconvert_exporter": "python",
   "pygments_lexer": "ipython3",
   "version": "3.12.11"
  }
 },
 "nbformat": 4,
 "nbformat_minor": 5
}
