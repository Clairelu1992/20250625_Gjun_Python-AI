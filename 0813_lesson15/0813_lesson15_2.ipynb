{
 "cells": [
  {
   "cell_type": "code",
   "execution_count": 1,
   "id": "60a9d762",
   "metadata": {},
   "outputs": [
    {
     "data": {
      "text/plain": [
       "array([ 0, 10, 20, 30, 40, 50, 60, 70, 80, 90])"
      ]
     },
     "execution_count": 1,
     "metadata": {},
     "output_type": "execute_result"
    }
   ],
   "source": [
    "import numpy as np\n",
    "arr = np.arange(10) * 10\n",
    "arr"
   ]
  },
  {
   "cell_type": "code",
   "execution_count": null,
   "id": "fb8c68a6",
   "metadata": {},
   "outputs": [
    {
     "data": {
      "text/plain": [
       "array([50, 60, 70, 80, 90])"
      ]
     },
     "execution_count": 5,
     "metadata": {},
     "output_type": "execute_result"
    }
   ],
   "source": [
    "#索引\n",
    "arr[1]\n",
    "\n",
    "#slice\n",
    "arr[:5] #前5個\n",
    "arr[-5:] #最後5個\n"
   ]
  },
  {
   "cell_type": "code",
   "execution_count": 6,
   "id": "c25e1774",
   "metadata": {},
   "outputs": [
    {
     "data": {
      "text/plain": [
       "array([[ 58,  79,  78,  92,  81],\n",
       "       [ 76, 100,  87,  83,  63],\n",
       "       [ 53,  71,  73,  84,  74],\n",
       "       [ 68,  72,  63,  93,  67],\n",
       "       [ 84,  77,  93,  90,  94],\n",
       "       [ 78,  73,  78,  67,  85],\n",
       "       [ 91,  56,  72,  75,  97],\n",
       "       [ 69,  56,  69,  71,  70],\n",
       "       [ 78,  57,  76,  90,  51],\n",
       "       [ 84,  69,  78,  89,  72],\n",
       "       [ 57,  68,  98,  78,  55],\n",
       "       [ 80,  80,  61,  82,  62],\n",
       "       [ 83,  76,  80,  64,  74],\n",
       "       [ 80,  82,  62,  77,  54],\n",
       "       [ 92,  68,  51,  84,  95],\n",
       "       [ 77,  93,  78,  99,  65],\n",
       "       [ 74,  53,  98,  73,  80],\n",
       "       [ 61,  90,  85,  67,  76],\n",
       "       [ 86,  68,  59,  63,  58],\n",
       "       [ 59,  56, 100,  70,  57],\n",
       "       [ 70,  74,  63,  84,  54],\n",
       "       [ 56,  65,  57, 100,  85],\n",
       "       [ 61, 100,  70,  90,  54],\n",
       "       [ 93,  58,  73,  76,  76],\n",
       "       [ 94,  93,  54,  81,  79],\n",
       "       [ 82,  55,  87,  71,  52],\n",
       "       [ 70,  88,  99,  64,  99],\n",
       "       [ 72,  64,  63,  65,  92],\n",
       "       [ 90,  50,  82,  88,  69],\n",
       "       [ 75,  66,  64,  84,  94],\n",
       "       [ 53,  52,  68,  76,  60],\n",
       "       [ 73,  50,  62,  83,  57],\n",
       "       [ 98,  74,  92,  50,  99],\n",
       "       [ 83,  79,  57,  58,  84],\n",
       "       [ 85,  83,  74,  72,  70],\n",
       "       [ 67,  53,  58,  73,  60],\n",
       "       [ 71,  55,  83,  64,  50],\n",
       "       [ 78,  93,  95,  85,  61],\n",
       "       [ 79,  63,  55,  73,  61],\n",
       "       [ 76,  64,  51,  91,  80],\n",
       "       [ 96,  97, 100,  84,  71],\n",
       "       [ 60,  63,  58,  75,  76],\n",
       "       [ 92,  65,  57,  65,  91],\n",
       "       [ 73,  95,  73,  90,  64],\n",
       "       [ 69,  92,  86,  92,  79],\n",
       "       [ 52,  62,  98,  57,  50],\n",
       "       [ 92,  58,  75,  57,  61],\n",
       "       [ 82,  66,  65,  55,  65],\n",
       "       [ 64,  83,  56,  67,  98],\n",
       "       [ 62,  72,  66,  80,  82]], dtype=int32)"
      ]
     },
     "execution_count": 6,
     "metadata": {},
     "output_type": "execute_result"
    }
   ],
   "source": [
    "scores = np.random.randint(50,101, size=(50, 5))\n",
    "scores"
   ]
  },
  {
   "cell_type": "code",
   "execution_count": 7,
   "id": "a44ddc07",
   "metadata": {},
   "outputs": [
    {
     "data": {
      "text/plain": [
       "array([[58, 79, 78, 92, 81]], dtype=int32)"
      ]
     },
     "execution_count": 7,
     "metadata": {},
     "output_type": "execute_result"
    }
   ],
   "source": [
    "#第一位學生的分數\n",
    "scores[0] #(5,)\n",
    "scores[0,:] #(5,)\n",
    "scores[0:1,:] #(1, 5)"
   ]
  },
  {
   "cell_type": "code",
   "execution_count": 8,
   "id": "6f498c9f",
   "metadata": {},
   "outputs": [
    {
     "data": {
      "text/plain": [
       "array([[ 58,  79,  78],\n",
       "       [ 76, 100,  87],\n",
       "       [ 53,  71,  73],\n",
       "       [ 68,  72,  63],\n",
       "       [ 84,  77,  93]], dtype=int32)"
      ]
     },
     "execution_count": 8,
     "metadata": {},
     "output_type": "execute_result"
    }
   ],
   "source": [
    "#前5位學生\n",
    "scores[:5]\n",
    "#前5位學生,前3個分數\n",
    "scores[:5,:3]"
   ]
  },
  {
   "cell_type": "code",
   "execution_count": 9,
   "id": "cea52065",
   "metadata": {},
   "outputs": [
    {
     "data": {
      "text/plain": [
       "array([ 78,  87,  73,  63,  93,  78,  72,  69,  76,  78,  98,  61,  80,\n",
       "        62,  51,  78,  98,  85,  59, 100,  63,  57,  70,  73,  54,  87,\n",
       "        99,  63,  82,  64,  68,  62,  92,  57,  74,  58,  83,  95,  55,\n",
       "        51, 100,  58,  57,  73,  86,  98,  75,  65,  56,  66], dtype=int32)"
      ]
     },
     "execution_count": 9,
     "metadata": {},
     "output_type": "execute_result"
    }
   ],
   "source": [
    "#第1科分數\n",
    "scores[:,0]\n",
    "scores[:,1]\n",
    "scores[:,2]"
   ]
  },
  {
   "cell_type": "code",
   "execution_count": 10,
   "id": "c9674a4a",
   "metadata": {},
   "outputs": [
    {
     "data": {
      "text/plain": [
       "array([388, 409, 355, 363, 438, 381, 391, 335, 352, 392, 356, 365, 377,\n",
       "       355, 390, 412, 378, 379, 334, 342, 345, 363, 375, 376, 401, 347,\n",
       "       420, 356, 379, 383, 309, 325, 413, 361, 384, 311, 323, 412, 331,\n",
       "       362, 448, 332, 370, 395, 418, 319, 343, 333, 368, 362], dtype=int32)"
      ]
     },
     "execution_count": 10,
     "metadata": {},
     "output_type": "execute_result"
    }
   ],
   "source": [
    "#ndarray可以陣列運算\n",
    "total = scores[:,0] + scores[:,1] + scores[:,2] + scores[:,3] + scores[:,4]\n",
    "total"
   ]
  },
  {
   "cell_type": "code",
   "execution_count": 11,
   "id": "504a78f1",
   "metadata": {},
   "outputs": [
    {
     "data": {
      "text/plain": [
       "array([77.6, 81.8, 71. , 72.6, 87.6, 76.2, 78.2, 67. , 70.4, 78.4, 71.2,\n",
       "       73. , 75.4, 71. , 78. , 82.4, 75.6, 75.8, 66.8, 68.4, 69. , 72.6,\n",
       "       75. , 75.2, 80.2, 69.4, 84. , 71.2, 75.8, 76.6, 61.8, 65. , 82.6,\n",
       "       72.2, 76.8, 62.2, 64.6, 82.4, 66.2, 72.4, 89.6, 66.4, 74. , 79. ,\n",
       "       83.6, 63.8, 68.6, 66.6, 73.6, 72.4])"
      ]
     },
     "execution_count": 11,
     "metadata": {},
     "output_type": "execute_result"
    }
   ],
   "source": [
    "total / 5"
   ]
  },
  {
   "cell_type": "code",
   "execution_count": 12,
   "id": "ea0aa7f6",
   "metadata": {},
   "outputs": [
    {
     "data": {
      "text/plain": [
       "array([77.6, 81.8, 71. , 72.6, 87.6, 76.2, 78.2, 67. , 70.4, 78.4, 71.2,\n",
       "       73. , 75.4, 71. , 78. , 82.4, 75.6, 75.8, 66.8, 68.4, 69. , 72.6,\n",
       "       75. , 75.2, 80.2, 69.4, 84. , 71.2, 75.8, 76.6, 61.8, 65. , 82.6,\n",
       "       72.2, 76.8, 62.2, 64.6, 82.4, 66.2, 72.4, 89.6, 66.4, 74. , 79. ,\n",
       "       83.6, 63.8, 68.6, 66.6, 73.6, 72.4])"
      ]
     },
     "execution_count": 12,
     "metadata": {},
     "output_type": "execute_result"
    }
   ],
   "source": [
    "#np內的function\n",
    "np.sum(scores,axis=1)\n",
    "np.mean(scores,axis=1)"
   ]
  },
  {
   "cell_type": "code",
   "execution_count": 13,
   "id": "437957d4",
   "metadata": {},
   "outputs": [
    {
     "data": {
      "text/plain": [
       "array([77.6, 81.8, 71. , 72.6, 87.6, 76.2, 78.2, 67. , 70.4, 78.4, 71.2,\n",
       "       73. , 75.4, 71. , 78. , 82.4, 75.6, 75.8, 66.8, 68.4, 69. , 72.6,\n",
       "       75. , 75.2, 80.2, 69.4, 84. , 71.2, 75.8, 76.6, 61.8, 65. , 82.6,\n",
       "       72.2, 76.8, 62.2, 64.6, 82.4, 66.2, 72.4, 89.6, 66.4, 74. , 79. ,\n",
       "       83.6, 63.8, 68.6, 66.6, 73.6, 72.4])"
      ]
     },
     "execution_count": 13,
     "metadata": {},
     "output_type": "execute_result"
    }
   ],
   "source": [
    "#實體方法\n",
    "scores.sum(axis=1)\n",
    "scores.mean(axis=1)"
   ]
  }
 ],
 "metadata": {
  "kernelspec": {
   "display_name": "20250804_Claire_conda",
   "language": "python",
   "name": "python3"
  },
  "language_info": {
   "codemirror_mode": {
    "name": "ipython",
    "version": 3
   },
   "file_extension": ".py",
   "mimetype": "text/x-python",
   "name": "python",
   "nbconvert_exporter": "python",
   "pygments_lexer": "ipython3",
   "version": "3.12.11"
  }
 },
 "nbformat": 4,
 "nbformat_minor": 5
}
