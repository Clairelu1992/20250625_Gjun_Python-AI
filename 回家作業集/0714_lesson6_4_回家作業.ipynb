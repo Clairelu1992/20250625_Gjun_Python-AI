{
 "cells": [
  {
   "cell_type": "markdown",
   "id": "ba095c0f",
   "metadata": {},
   "source": [
    "20250709_請建立BMI的功能"
   ]
  },
  {
   "cell_type": "markdown",
   "id": "ccbba6cc",
   "metadata": {},
   "source": [
    "20250714_請將現有的程式內增加BMI狀態\n",
    "try:\n",
    "    height = float(input(\"請輸入身高(120-250(cm))\"))\n",
    "    if not(120 <= height <= 250):\n",
    "        raise Exception(\"身高數字需在120~250(cm)內\")\n",
    "     \n",
    "    weight = float(input(\"請輸入體重(30~200(kg))\"))\n",
    "    if not(30 <= weight <= 200):\n",
    "        raise Exception(\"體重數字需在30~200(kg)內\")\n",
    "    \n",
    "    print(\"您的身高為:\",height,\"cm\")\n",
    "    print(\"您的體重為:\",weight,\"kg\")\n",
    "        \n",
    "except ValueError as e:\n",
    "    print(\"格式錯誤\",e)\n",
    "except Exception as e:\n",
    "    print(e)\n",
    "else:\n",
    "    BMI = weight / (height / 100) ** 2\n",
    "    print(\"👉您的BMI為:\",round(BMI,ndigits = 1),\"(kg/m²)\") \n",
    "finally:\n",
    "    print(\"～應用程式結束～\") "
   ]
  },
  {
   "cell_type": "markdown",
   "id": "c27c2618",
   "metadata": {},
   "source": [
    "20250714_求所有的因數\n",
    "第一題:\n",
    "輸入:\n",
    "請輸入整數,求所有的因數:10\n",
    "\n",
    "輸出:\n",
    "10的因數有:1 2 5 10\n",
    "\n",
    "第二題:\n",
    "輸入:\n",
    "請輸入第1個整數:10\n",
    "請輸入第2個整數:15\n",
    "\n",
    "輸出:\n",
    "10和15的公因數:1 5\n",
    "\n"
   ]
  }
 ],
 "metadata": {
  "language_info": {
   "name": "python"
  }
 },
 "nbformat": 4,
 "nbformat_minor": 5
}
