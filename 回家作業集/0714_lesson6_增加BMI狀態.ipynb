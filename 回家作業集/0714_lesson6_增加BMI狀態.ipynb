{
 "cells": [
  {
   "cell_type": "markdown",
   "id": "ba095c0f",
   "metadata": {},
   "source": [
    "20250709_請建立BMI的功能"
   ]
  },
  {
   "cell_type": "code",
   "execution_count": null,
   "id": "b9bfd05f",
   "metadata": {
    "vscode": {
     "languageId": "plaintext"
    }
   },
   "outputs": [],
   "source": [
    "try:\n",
    "    height = float(input(\"請輸入身高(120-250cm):\"))\n",
    "    if not(120 <= height <= 250):\n",
    "        raise Exception(\"輸入的身高不在範圍內\")\n",
    "    \n",
    "    weight = float(input(\"請輸入體重(30-200kg):\"))\n",
    "    if not(30 <= weight <= 200):\n",
    "        raise Exception(\"輸入的體重不在範圍內\")\n",
    "\n",
    "    print(\"您的身高為:\",height,\"cm\")\n",
    "    print(\"您的體重為:\",weight,\"kg\")\n",
    "        \n",
    "except ValueError as e:\n",
    "    print(\"格式錯誤\",e)\n",
    "except Exception as e:\n",
    "    print(e)\n",
    "else:\n",
    "    bmi = weight / (height / 100) ** 2\n",
    "    print(\"您的bmi是:\",round(bmi,ndigits = 1))\n",
    "\n",
    "    if bmi < 18.5:\n",
    "        bmi_value = '體重過輕'\n",
    "    elif bmi < 24:\n",
    "        bmi_value = '正常範圍'\n",
    "    elif bmi < 27:\n",
    "        bmi_value = '過重'\n",
    "    elif bmi < 30:\n",
    "        bmi_value = '輕度肥胖'\n",
    "    elif bmi < 35:\n",
    "        bmi_value = '中度肥胖'\n",
    "    else:\n",
    "        bmi_value = '重度肥胖'\n",
    "    print(\"BMI狀態為:\",bmi_value)\n",
    "finally:\n",
    "    print(\"計算完成\")"
   ]
  },
  {
   "cell_type": "code",
   "execution_count": null,
   "id": "50b7c961",
   "metadata": {
    "vscode": {
     "languageId": "plaintext"
    }
   },
   "outputs": [],
   "source": [
    "try:\n",
    "    height = float(input('請輸入身高120-250cm):'))\n",
    "    if not (120 <= height <= 250):\n",
    "        print('身高範圍輸入錯誤')\n",
    "    weight = float(input('請輸入體重30-200kg):'))\n",
    "    if not (30 <= weight <=200):\n",
    "         print('體重範圍輸入錯誤')\n",
    "    BMI = weight / ((height  / 100) **2)\n",
    "    if 120 <= height <= 250 :\n",
    "        if 30 <= weight <= 200:\n",
    "            print('你的BMI為:',round(BMI,1))\n",
    "        if BMI < 18.5:\n",
    "            x = '體重過輕'\n",
    "        elif 18.5 <= BMI < 24:\n",
    "            x = '正常範圍'\n",
    "        elif 24 <= BMI < 27:\n",
    "            x = '體重過重'\n",
    "        elif 27 <= BMI < 30:\n",
    "            x = '輕度肥胖'\n",
    "        elif 30 <= BMI < 35:\n",
    "            x = '中度肥胖'\n",
    "        elif BMI >= 35:\n",
    "            x = '重度肥胖'\n",
    "        print('您的BMI為',x)\n",
    "except:\n",
    "    print('輸入格式錯誤')\n",
    "finally:\n",
    "    print('應用程式結束')"
   ]
  }
 ],
 "metadata": {
  "language_info": {
   "name": "python"
  }
 },
 "nbformat": 4,
 "nbformat_minor": 5
}
