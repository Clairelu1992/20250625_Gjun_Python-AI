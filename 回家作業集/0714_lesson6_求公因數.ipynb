{
 "cells": [
  {
   "cell_type": "markdown",
   "id": "e2b1c33b",
   "metadata": {},
   "source": [
    "20250714_求所有的因數\n",
    "第一題:\n",
    "輸入:請輸入整數,求所有的因數:10\n",
    "輸出:10的因數有:1 2 5 10\n",
    "\n",
    "第二題:\n",
    "輸入:請輸入第1個整數:10\n",
    "請輸入第2個整數:15\n",
    "輸出:10和15的公因數:1 5"
   ]
  },
  {
   "cell_type": "code",
   "execution_count": null,
   "id": "7e61b203",
   "metadata": {
    "vscode": {
     "languageId": "plaintext"
    }
   },
   "outputs": [],
   "source": [
    "value = int(input(\"請輸入一整數：\"))\n",
    "print(f\"{value} 的因數：\",end='')\n",
    "\n",
    "factor = 1\n",
    "while (factor <= value):\n",
    "    if value % factor == 0:\n",
    "        print(factor,end=' ')\n",
    "    factor += 1"
   ]
  },
  {
   "cell_type": "code",
   "execution_count": null,
   "id": "21b28c2e",
   "metadata": {
    "vscode": {
     "languageId": "plaintext"
    }
   },
   "outputs": [],
   "source": [
    "value1 = int(input(\"請輸入第一個整數：\"))\n",
    "value2 = int(input(\"請輸入第二個整數：\"))\n",
    "print(f\"{value1} 及 {value2} 的公因數：\")\n",
    "\n",
    "factor = 1\n",
    "while (factor <= value1 and factor <= value2):\n",
    "    if value1 % factor == 0 and value2 % factor == 0:\n",
    "        print(factor)\n",
    "    factor += 1"
   ]
  }
 ],
 "metadata": {
  "language_info": {
   "name": "python"
  }
 },
 "nbformat": 4,
 "nbformat_minor": 5
}
